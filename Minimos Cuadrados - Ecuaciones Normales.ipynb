{
 "cells": [
  {
   "cell_type": "markdown",
   "metadata": {
    "slideshow": {
     "slide_type": "slide"
    }
   },
   "source": [
    "# Minimos Cuadrados\n",
    "\n",
    "Supongamos que disponemos de un conjunto de datos $\\{(x_i,y_i)\\}_{i=1,\\ldots,m}$. En general, los datos $y_i$ son la respuesta de un sistema a ciertas entradas dadas por las variables $x_i$. El objetivo es hallar una función $f$ tal que $y_i \\approx f(x_i)$. A $f$ se le conoce como *función de regresión*.\n",
    "\n",
    "En general, no queremos $y_i=f(x_i)$ exactamente, ya que las medidas $y_i$ pueden tener error. Lo que se busca es que la función $f$ sea sencilla, por ejemplo pertenezca a una familia paramétrica."
   ]
  },
  {
   "cell_type": "markdown",
   "metadata": {
    "slideshow": {
     "slide_type": "fragment"
    }
   },
   "source": [
    "### Ejemplo\n",
    "\n",
    "Supongamos que tenemos un conjunto de datos, a los cuales queremos ajustar una recta. En este caso, la función $f$ es de la forma:\n",
    "\n",
    "$$f(x;\\theta) = \\theta_1 x +\\theta_2.$$\n",
    "\n",
    "Aquí $\\theta$ es el conjunto de parámetros que queremos ajustar, en este caso la pendiente y ordenada en el origen de la recta."
   ]
  },
  {
   "cell_type": "markdown",
   "metadata": {
    "slideshow": {
     "slide_type": "slide"
    }
   },
   "source": [
    "## Criterio de mínimos cuadrados\n",
    "\n",
    "Para un conjunto de datos dado, existen muchas posibles $f$ que aproximan. El criterio de mínimos cuadrados establece una forma de elegir la función de regresión que mejor ajusta.\n",
    "\n",
    "El criterio es el siguiente:\n",
    "\n",
    "> **Criterio de mínimos cuadrados:** Dado un conjunto de datos $\\{(x_i,y_i)\\}_{i=1,\\ldots,m}$ y una función de regresión $f(x;\\theta)$ dependiente de uno o más parámetros, elegimos $\\theta$ de manera que se alcance:\n",
    ">\n",
    "> $$\\min_{\\theta} \\sum_{i=1}^m (y_i - f(x_i;\\theta))^2.$$\n",
    "\n",
    "El vector de parámetros $\\hat{\\theta}$ que alcanza el mínimo nos da la función de regresión óptima."
   ]
  },
  {
   "cell_type": "markdown",
   "metadata": {
    "slideshow": {
     "slide_type": "slide"
    }
   },
   "source": [
    "### Ejemplo\n",
    "\n",
    "Volviendo al caso de la recta, dado el conjunto de datos, se desea minimizar:\n",
    "\n",
    "$$R(\\theta_1,\\theta_2) = \\sum_{i=1}^m (y_i - \\theta_1 x_i - \\theta_2)^2.$$\n",
    "\n",
    "Esta es una función de dos variables en $\\theta_1,\\theta_2$, por lo que para minimizar deberíamos hallar un punto estacionario, por ejemplo derivando respecto a cada parámetro e igualando a $0$. Sin embargo veremos ahora una forma más sencilla de llegar a la solución."
   ]
  },
  {
   "cell_type": "markdown",
   "metadata": {
    "slideshow": {
     "slide_type": "slide"
    }
   },
   "source": [
    "## Mínimos cuadrados lineales\n",
    "\n",
    "Supongamos que la función de regresión puede escribirse de la siguiente forma:\n",
    "\n",
    "$$f(x;\\theta) = \\theta_1 \\phi_1(x) + \\ldots + \\theta_n \\phi_n(x)$$\n",
    "\n",
    "donde $\\theta_i$ son los parámetros y $\\phi_i(x)$ es una *base de funciones*. Estas funciones son genéricas y se eligen para lograr el ajuste deseado al problema. \n",
    "\n",
    "Llamamos *mínimos cuadrados lineales* a este caso, es decir, cuando la función de regresión es una *función lineal de los parámetros $\\theta$*."
   ]
  },
  {
   "cell_type": "code",
   "execution_count": 95,
   "metadata": {},
   "outputs": [],
   "source": [
    "using LinearAlgebra\n",
    "\n",
    "function ajuste(x,y,n)\n",
    "    A=x.^n;\n",
    "    \n",
    "    while n>0\n",
    "    n= n-1;    \n",
    "    A= [A x.^n]\n",
    "    end\n",
    "    \n",
    "    A0= A'*A #Traspuesta por A\n",
    "    B0= A'*y\n",
    "    tita= A0\\B0 #Division al revez para dividir entre matrices \n",
    "    residuo = norm(y-A*tita)\n",
    "    \n",
    "return tita,residuo;\n",
    "    \n",
    "    \n",
    "end;\n"
   ]
  },
  {
   "cell_type": "markdown",
   "metadata": {
    "slideshow": {
     "slide_type": "slide"
    }
   },
   "source": [
    "> **Ejemplo 1: ajuste a una recta**\n",
    ">\n",
    "> Si tomamos $\\phi_1(x) = x$, $\\phi_2(x) = 1$ tenemos el ajuste anterior.\n",
    "\n",
    "\n",
    "> **Ejemplo 2: ajuste a un polinomio**\n",
    ">\n",
    "> Si tomamos $\\phi_i(x) = x^i$ para $i=0,\\ldots,n$ entonces la función de regresión $f$ es un polinomio de grado $n$ y sus parámetros son los coeficientes.\n",
    " \n",
    "> **Ejemplo 3: ajuste a una sinusoide**\n",
    ">\n",
    "> Si tomamos $\\phi_1(x) = \\cos(\\omega x)$ y $\\phi_2(x) = \\sin(\\omega x)$, entonces la función de regresión es una sinusoide de frecuencia $\\omega$ dada y sus parámetros permiten ajustar amplitud y fase."
   ]
  },
  {
   "cell_type": "markdown",
   "metadata": {
    "slideshow": {
     "slide_type": "slide"
    }
   },
   "source": [
    "## Formulación geométrica\n",
    "\n",
    "Dado un conjunto de datos $\\{(x_i,y_i)\\}$, y $f$ lineal en $\\theta$ el criterio de mínimos cuadrados busca minimizar el *residuo*:\n",
    "\n",
    "$$ R(\\theta) = \\sum_{i=1}^m (y_i - f(x_i,\\theta))^2.$$\n",
    "\n",
    "Para un $x$ dado, sea $\\phi(x)$ el vector:\n",
    "\n",
    "$$\\phi(x) = \\left(\\begin{array}{c}\\phi_1(x) \\\\ \\vdots \\\\ \\phi_n(x)\\end{array}\\right).$$"
   ]
  },
  {
   "cell_type": "markdown",
   "metadata": {
    "slideshow": {
     "slide_type": "slide"
    }
   },
   "source": [
    "Entonces la función de regresión se puede escribir como:\n",
    "\n",
    "$$ f(x;\\theta) = \\phi(x)^T \\theta, $$\n",
    "\n",
    "siendo $\\theta$ el vector columna $[\\theta_1,\\ldots,\\theta_n]$. El residuo es entonces:\n",
    "\n",
    "$$ R(\\theta) = \\sum_{i=1}^m (y_i - \\phi(x_i)^T \\theta)^2.$$\n",
    "\n",
    "\n",
    "Sea ahora el vector $y=[y_1,\\ldots,y_m]$ columna y consideremos la matriz $A$ de $m$ filas y $n$ columnas:\n",
    "\n",
    "$$A = \\left(\\begin{array}{c} \\phi(x_1)^T \\\\ \\vdots \\\\ \\phi(x_m)^T \\end{array}\\right) = \\left(\\begin{array}{ccc}\n",
    "\\phi_1(x_1) & \\cdots & \\phi_n(x_1) \\\\\n",
    "\\vdots & \\ddots & \\vdots \\\\\n",
    "\\phi_1(x_m) & \\cdots & \\phi_n(x_m) \\end{array}\\right).$$"
   ]
  },
  {
   "cell_type": "markdown",
   "metadata": {
    "slideshow": {
     "slide_type": "slide"
    }
   },
   "source": [
    "Se tiene la identidad:\n",
    "$$\\left(\\begin{array}{c} y_1 - \\phi(x_1)^T\\theta \\\\ \\vdots \\\\ y_m- \\phi(x_m)^T \\theta \\end{array}\\right) = y - A\\theta.$$\n",
    "\n",
    "Y por lo tanto:\n",
    "$$ R(\\theta) = \\|y-A\\theta\\|^2.$$\n",
    "\n",
    "Es decir, con la construcción anterior, la función a minimizar es la distancia en norma 2 del vector $A\\theta$ con el vector $y$ de datos. La matriz $A$ está determinada por los $x_i$ y las funciones de base elegidas."
   ]
  },
  {
   "cell_type": "markdown",
   "metadata": {
    "slideshow": {
     "slide_type": "slide"
    }
   },
   "source": [
    "## Ecuaciones normales\n",
    "\n",
    "En general, en la formulación anterior, $m\\gg n$ (hay más datos que parámetros) por lo que el sistema $A\\theta = y$ es incompatible. Es decir, el residuo anterior no puede anularse.\n",
    "\n",
    "Para hallar el mínimo, conviene realizar la siguiente observación: al variar $\\theta$, el vector $A\\theta$ recorre el subespacio $Im(A)$ (generado por las columnas de $A$). \n",
    "\n",
    "![proyeccion](https://upload.wikimedia.org/wikipedia/commons/thumb/b/bb/Linear_least_squares_geometric_interpretation.png/330px-Linear_least_squares_geometric_interpretation.png)\n",
    "\n",
    "Se desea hallar el vector que minimice la distancia entre $y$ y la imagen de $A$. Este vector será la *proyección ortogonal* de $y$ sobre el subespacio."
   ]
  },
  {
   "cell_type": "markdown",
   "metadata": {
    "slideshow": {
     "slide_type": "slide"
    }
   },
   "source": [
    "Para que la proyección sea ortogonal, el vector $y-A\\theta$ buscado debe ser perpendicular a todas las columnas de $A$, es decir, se debe cumplir:\n",
    "\n",
    "$$A^T (y-A\\theta) = 0,$$\n",
    "\n",
    "ya que multiplicar a izquierda por $A^T$ es como hacer el producto interno con cada columna.\n",
    "\n",
    "De lo anterior se tiene que el $\\hat{\\theta}$ óptimo verifica:\n",
    "\n",
    "$$A^T A \\hat{\\theta} = A^T y.$$\n",
    "\n",
    "Al sistema de ecuaciones anterior se le denomina **ecuaciones normales**."
   ]
  },
  {
   "cell_type": "markdown",
   "metadata": {
    "slideshow": {
     "slide_type": "slide"
    }
   },
   "source": [
    "### Ejemplo\n",
    "\n",
    "Si queremos ajustar a una recta, entonces $\\phi(x) = \\theta_1 x + \\theta_2$, el vector incógnita es $\\theta= [\\theta_1,\\theta_2]$ y la matriz $A$ queda:\n",
    "\n",
    "$$A = \\left(\\begin{array}{cc} x_1 & 1 \\\\ x_2 & 1 \\\\ \\vdots & \\vdots \\\\ x_m & 1\\end{array}\\right) .$$\n"
   ]
  },
  {
   "cell_type": "markdown",
   "metadata": {
    "slideshow": {
     "slide_type": "fragment"
    }
   },
   "source": [
    "Se tiene que:\n",
    "\n",
    "$$ A^T A = \\left(\\begin{array}{cc} \\sum_i x_i^2 & \\sum_i x_i \\\\ \\sum_i x_i & m \\end{array} \\right), \\quad A^T y = \\left(\\begin{array}{c} \\sum_i x_iy_i \\\\ \\sum_i y_i \\end{array} \\right).$$"
   ]
  },
  {
   "cell_type": "code",
   "execution_count": 96,
   "metadata": {
    "slideshow": {
     "slide_type": "slide"
    }
   },
   "outputs": [
    {
     "ename": "ArgumentError",
     "evalue": "ArgumentError: Package Distributions not found in current path:\n- Run `import Pkg; Pkg.add(\"Distributions\")` to install the Distributions package.\n",
     "output_type": "error",
     "traceback": [
      "ArgumentError: Package Distributions not found in current path:\n- Run `import Pkg; Pkg.add(\"Distributions\")` to install the Distributions package.\n",
      "",
      "Stacktrace:",
      " [1] require(::Module, ::Symbol) at .\\loading.jl:892",
      " [2] top-level scope at In[96]:1"
     ]
    }
   ],
   "source": [
    "# Ejemplo mínimos cuadrados. Se genera un conjunto de datos con una recta \n",
    "# conocida perturbada por ruido. Luego se ajusta y se compara con los parámetros originales.\n",
    "\n",
    "using Distributions,PyPlot\n",
    "\n",
    "x=(0:.2:10);\n",
    "theta_real = [2;1];\n",
    "yreal=theta_real[1]*x .+theta_real[2];\n",
    "\n",
    "#perturbo el y y graficamos\n",
    "y=yreal+10*rand(Normal(),size(yreal))\n",
    "\n",
    "plot(x,y,\"*\");\n",
    "plot(x,yreal,\":\");"
   ]
  },
  {
   "cell_type": "code",
   "execution_count": 97,
   "metadata": {
    "slideshow": {
     "slide_type": "slide"
    }
   },
   "outputs": [
    {
     "ename": "UndefVarError",
     "evalue": "UndefVarError: yreal not defined",
     "output_type": "error",
     "traceback": [
      "UndefVarError: yreal not defined",
      "",
      "Stacktrace:",
      " [1] top-level scope at In[97]:10"
     ]
    }
   ],
   "source": [
    "#Resuelvo ecuaciones normales\n",
    "using LinearAlgebra\n",
    "\n",
    "A=[x ones(size(x))];\n",
    "theta = (A'*A)\\(A'*y); #El operador \\ permite resolver sistemas lineales.\n",
    "R= norm(y-A*theta);\n",
    "\n",
    "plot(x,y,\"*\")\n",
    "plot(x,A*theta,\":r\")\n",
    "plot(x,yreal,\":g\")\n",
    "\n",
    "println(\"Parámetros hallados: $theta\");\n",
    "println(\"Residuo: $R \")"
   ]
  },
  {
   "cell_type": "markdown",
   "metadata": {
    "slideshow": {
     "slide_type": "slide"
    }
   },
   "source": [
    "## Ejercicio\n",
    "\n",
    "1. Construya una funcion `ajuste(x,y,n)` que realice el ajuste de un polinomio de grado $n$ a los datos $x,y$ genéricos. La función debe retornar el valor de los coeficientes $\\theta$ y el residuo $R$ alcanzado.\n",
    "\n",
    "2. Considere el siguiente conjunto de datos, que corresponde a la población resultante del censo de EEUU realizado cada $10$ años. Ajuste un polinomio de grado $n$, con $n=1,2,\\ldots$. Observe el comportamiento del residuo y decida hasta que valor de $n$ es razonable hacer crecer el grado del polinomio."
   ]
  },
  {
   "cell_type": "code",
   "execution_count": 98,
   "metadata": {},
   "outputs": [
    {
     "name": "stdout",
     "output_type": "stream",
     "text": [
      "Parámetros hallados: 6.0\n",
      "Residuo: 6.324555320336759 \n"
     ]
    }
   ],
   "source": [
    "using LinearAlgebra\n",
    "\n",
    "x=[1;2;3;4;5];\n",
    "y=[2;4;6;8;10];\n",
    "n=0;\n",
    "tita,residuo = ajuste(x,y,n);\n",
    "\n",
    "println(\"Parámetros hallados: $tita\")\n",
    "println(\"Residuo: $residuo \")\n"
   ]
  },
  {
   "cell_type": "code",
   "execution_count": 99,
   "metadata": {
    "slideshow": {
     "slide_type": "slide"
    }
   },
   "outputs": [
    {
     "data": {
      "image/png": "[encoded data removed]",
      "text/plain": [
       "Figure(PyObject <Figure size 640x480 with 1 Axes>)"
      ]
     },
     "metadata": {},
     "output_type": "display_data"
    }
   ],
   "source": [
    "using PyPlot\n",
    "\n",
    "#Año del censo\n",
    "x=[1790, 1800, 1810, 1820, 1830, 1840, 1850, 1860, 1870, 1880, 1890, 1900, 1910, 1920, 1930, 1940, 1950, 1960, 1970, 1980, 1990, 2000]\n",
    "y=[3.929214, 5.308483, 7.239881,  9.638453, 12.860702, 17.063353, 23.191876, 31.443321, 38.558371, 50.189209, 62.979766,  76.212168, 92.228496, 106.021537, 123.202624, 132.164569, 151.325798, 179.323175, 203.302031, 226.542199, 248.709873, 281.421906]\n",
    "n=1;\n",
    "tita,residuo = ajuste(x,y,n);\n",
    "\n",
    "plot(x,y,\"*\");\n",
    "#Tirar A desde ajuste tmb \n",
    "\n"
   ]
  }
 ],
 "metadata": {
  "@webio": {
   "lastCommId": null,
   "lastKernelId": null
  },
  "celltoolbar": "Slideshow",
  "kernelspec": {
   "display_name": "Julia 1.4.1",
   "language": "julia",
   "name": "julia-1.4"
  },
  "language_info": {
   "file_extension": ".jl",
   "mimetype": "application/julia",
   "name": "julia",
   "version": "1.4.1"
  }
 },
 "nbformat": 4,
 "nbformat_minor": 2
}
